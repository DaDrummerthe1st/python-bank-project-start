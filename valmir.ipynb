{
 "cells": [
  {
   "cell_type": "code",
   "execution_count": 3,
   "id": "53c6f5a8",
   "metadata": {},
   "outputs": [],
   "source": [
    "import pandas as pd"
   ]
  },
  {
   "cell_type": "code",
   "execution_count": 4,
   "id": "e3ee65a1",
   "metadata": {},
   "outputs": [
    {
     "name": "stderr",
     "output_type": "stream",
     "text": [
      "/var/folders/mw/gc5gfz857cnd6xm3mfgw57l00000gn/T/ipykernel_65608/2992974062.py:1: DtypeWarning: Columns (2) have mixed types. Specify dtype option on import or set low_memory=False.\n",
      "  df = pd.read_csv('/Users/macbook/Desktop/python-bank-projekt_start/data/transactions.csv')\n"
     ]
    }
   ],
   "source": [
    "df = pd.read_csv('/Users/macbook/Desktop/python-bank-projekt_start/data/transactions.csv')"
   ]
  },
  {
   "cell_type": "markdown",
   "id": "88ebfafb",
   "metadata": {},
   "source": [
    "1. Börja med att kontrollera Accuracy"
   ]
  },
  {
   "cell_type": "code",
   "execution_count": null,
   "id": "b5510bff",
   "metadata": {},
   "outputs": [
    {
     "name": "stdout",
     "output_type": "stream",
     "text": [
      "                            transaction_id timestamp    amount currency  \\\n",
      "372   e13b1664-c549-4f92-895a-1f941dd6d82e       NaT  12881.63      SEK   \n",
      "374   7bfcf599-e449-4e63-a3f9-05631511e58a       NaT  20223.17      SEK   \n",
      "432   b75a64f1-d111-4261-9df0-53f2c38e2828       NaT  45069.28      SEK   \n",
      "566   bc91f1d3-e0b0-471b-844f-7e14941d3236       NaT   9908.07      SEK   \n",
      "658   e4ec0cfc-55e8-4ca1-b3f4-0948a1b8e997       NaT   3080.18      SEK   \n",
      "661   13638365-972b-4fd8-9518-f27557a7e1cd       NaT  34157.12      SEK   \n",
      "761   fda4c622-1044-49aa-bc41-b44bdd50bc9c       NaT   2192.15      SEK   \n",
      "814   bc23bd09-5b6a-4ebe-95ae-7dad0cde315a       NaT  21899.83      SEK   \n",
      "817   9687e5ce-f8e0-4afa-ac0c-54d8c6ef457f       NaT  36969.56      SEK   \n",
      "821   aee31e4c-e8c1-4fa5-b8bf-53815ab51b55       NaT   39794.0      SEK   \n",
      "866   f46345d0-c1f8-46d7-ae78-47c4a6b52fee       NaT   9573.92      SEK   \n",
      "876   2f48c8d5-cad7-48b0-8f8c-2f1324911dfd       NaT  34373.92      SEK   \n",
      "884   776cbccf-2d92-4e83-a702-6b6261fa7de0       NaT  46318.06      SEK   \n",
      "911   2452bd7a-a1b4-425d-a9e1-a6299edbc458       NaT  31961.53      SEK   \n",
      "913   bf0e480f-3993-4f19-99c3-8e223bd1cada       NaT   6091.76      SEK   \n",
      "1428  99ca438b-d55e-4ba4-b6fc-c353cc5d810b       NaT  22074.32      SEK   \n",
      "\n",
      "                sender_account          receiver_account sender_country  \\\n",
      "372   SE8902IOSH72112913547339  SE8902EXDO77351409949930         Sweden   \n",
      "374   SE8902UEXU77157980119965  SE8902EMWA07310860593299         Sweden   \n",
      "432   SE8902PBIW30011757227628  SE8902SZWO66860675966705         Sweden   \n",
      "566   SE8902HEXR67420014606110  SE8902PBIW30011757227628         Sweden   \n",
      "658   SE8902RXEO54698137995629  SE8902PXQH61449282091685         Sweden   \n",
      "661   SE8902XMWU73408358252236  SE8902HPKQ79721411987869            NaN   \n",
      "761   SE8902KSGF71738325166005  SE8902SWFR35893590471977         Sweden   \n",
      "814   SE8902GPFA36799720094528  SE8902AEOP68872744631879         Sweden   \n",
      "817   SE8902ZKDX10421013051508  SE8902ZQHA53957175041781         Sweden   \n",
      "821   SE8902FIYI65713456085419  SE8902RNER71700945656875         Sweden   \n",
      "866   SE8902NFSW96446848690649  SE8902IFPV72140679061770         Sweden   \n",
      "876   SE8902AEQJ97044224731438  SE8902FZSE04507369196975         Sweden   \n",
      "884   SE8902JZYF06547820263799  SE8902IBRL73514393853709         Sweden   \n",
      "911   SE8902IGFR09709190696891  SE8902GTCY42439402519574         Sweden   \n",
      "913   SE8902IILS20920256766703  SE8902WGYQ69186751021705         Sweden   \n",
      "1428  SE8902APWS33564004625903  SE8902MVZJ65066103207787         Sweden   \n",
      "\n",
      "     sender_municipality receiver_country receiver_municipality  \\\n",
      "372           Norrköping           Sweden            Trelleborg   \n",
      "374         Kristianstad           Sweden                 Luleå   \n",
      "432             Göteborg           Sweden               Lidingö   \n",
      "566           Karlskrona           Sweden              Göteborg   \n",
      "658            Sundsvall           Sweden             Uddevalla   \n",
      "661                Malmö           Sweden                 Luleå   \n",
      "761                 Lund           Sweden                  Umeå   \n",
      "814            Uddevalla           Sweden                 Borås   \n",
      "817            Jönköping           Sweden                Motala   \n",
      "821             Alingsås           Sweden             Linköping   \n",
      "866                Malmö           Sweden              Borlänge   \n",
      "876             Halmstad           Sweden             Sandviken   \n",
      "884              Lidingö           Sweden                 Luleå   \n",
      "911                  NaN           Sweden             Sandviken   \n",
      "913                Luleå           Sweden            Södertälje   \n",
      "1428             Lidingö           Sweden                 Falun   \n",
      "\n",
      "     transaction_type                      notes  \n",
      "372          incoming             Loan repayment  \n",
      "374          incoming             Loan repayment  \n",
      "432          incoming  Payment for invoice #3222  \n",
      "566          incoming              Rent transfer  \n",
      "658          incoming           Insurance payout  \n",
      "661          outgoing  Payment for invoice #8946  \n",
      "761          incoming               Utility bill  \n",
      "814          outgoing            Online purchase  \n",
      "817          incoming               Utility bill  \n",
      "821          outgoing            Mobile recharge  \n",
      "866          incoming                 Tax refund  \n",
      "876          outgoing  Payment for invoice #9893  \n",
      "884          incoming            Mobile recharge  \n",
      "911          incoming            Mobile recharge  \n",
      "913          incoming      Gift to family member  \n",
      "1428         incoming            Online purchase  \n"
     ]
    }
   ],
   "source": [
    "## Kontrollerar datumformaten och försöker konvertera till datetime, samt fånga fel.\n",
    "df['timestamp'] = pd.to_datetime(df['timestamp'], errors='coerce') ## hämtar 'timestamp' i DF samt försöker konvertera värdena till datetime.\n",
    "print(df[df['timestamp'].isna()]) ## skriver ut de antalet rader där datumet inte kunde tolkas"
   ]
  },
  {
   "cell_type": "markdown",
   "id": "9b736c22",
   "metadata": {},
   "source": [
    "2. Completeness"
   ]
  },
  {
   "cell_type": "code",
   "execution_count": null,
   "id": "c6daedf7",
   "metadata": {},
   "outputs": [
    {
     "name": "stdout",
     "output_type": "stream",
     "text": [
      "transaction_id              0\n",
      "timestamp                  16\n",
      "amount                      0\n",
      "currency                    0\n",
      "sender_account              0\n",
      "receiver_account            0\n",
      "sender_country            500\n",
      "sender_municipality       500\n",
      "receiver_country          500\n",
      "receiver_municipality     500\n",
      "transaction_type            0\n",
      "notes                    9982\n",
      "dtype: int64\n"
     ]
    }
   ],
   "source": [
    "## Tar jag fram antalet saknade värden för varje kolumn\n",
    "print(df.isnull().sum())"
   ]
  },
  {
   "cell_type": "markdown",
   "id": "92b1215b",
   "metadata": {},
   "source": [
    "3. Consistency"
   ]
  },
  {
   "cell_type": "code",
   "execution_count": 7,
   "id": "f2e38d9d",
   "metadata": {},
   "outputs": [
    {
     "name": "stdout",
     "output_type": "stream",
     "text": [
      "Självtransaktioner (avsändare = mottagare):\n",
      "                            transaction_id           timestamp    amount  \\\n",
      "1173  c77b342e-4bec-401f-9659-02985f095f32 2025-02-14 11:53:00   28393.7   \n",
      "2444  2f25f6ea-0bcb-4783-8c35-2caf5ee8192d 2025-04-22 17:37:00  33954.38   \n",
      "2464  32f7a63c-2d8c-4bd1-9fe7-57c9bb8db968 2025-03-05 07:43:00  16237.38   \n",
      "2912  d6801ff1-e9f2-460f-81fd-fb19a8912261 2025-05-11 03:47:00  14815.11   \n",
      "3380  fece0013-1580-45a3-95fb-bad46bd23e7f 2025-04-14 15:44:00    897.27   \n",
      "3768  adb1f378-252a-4788-8384-5558d2fd63d4 2025-02-19 12:31:00  27899.96   \n",
      "3786  55e1e8f9-d7ca-4bec-adbf-c87105ad0ddb 2025-03-05 19:44:00  18522.75   \n",
      "4617  455ab658-24fe-40bc-bfa7-01f7a614992e 2025-03-17 10:20:00   8128.81   \n",
      "4943  0710c4b3-4a07-40ea-9a3a-e936b6fd2573 2025-01-10 21:12:00  29136.28   \n",
      "5151  817e2f88-c57f-4901-8556-4e1a41077523 2025-02-11 06:10:00  16236.31   \n",
      "6805  2237381c-947c-42ed-8736-7a1240a88959 2025-03-30 02:53:00  15061.68   \n",
      "6844  7aa57987-741e-4018-8a33-37936e7c86cb 2025-01-08 00:47:00  34929.99   \n",
      "7211  6d75a501-8c31-497a-b374-c609579d74d9 2025-03-19 17:10:00  48859.81   \n",
      "8603  482ef2d0-f987-4b7b-a43b-03833e61b208 2023-06-13 06:29:00  30711.11   \n",
      "8869  3189593f-f2f3-426c-902a-8e50a3a6b7c1 2025-05-02 22:27:00  42522.71   \n",
      "9683  d3273b00-2768-4a57-a1fd-b7d9432b67d4 2025-02-28 04:03:00  22659.13   \n",
      "\n",
      "     currency            sender_account          receiver_account  \\\n",
      "1173      SEK  SE8902ZLSU38152589670591  SE8902ZLSU38152589670591   \n",
      "2444      SEK  SE8902WWNV14831174045632  SE8902WWNV14831174045632   \n",
      "2464      SEK  SE8902QBJU48285545311827  SE8902QBJU48285545311827   \n",
      "2912      SEK  SE8902PJLT23740498738943  SE8902PJLT23740498738943   \n",
      "3380      SEK  SE8902FBYZ81516210215906  SE8902FBYZ81516210215906   \n",
      "3768      SEK  SE8902UJMZ79242324287202  SE8902UJMZ79242324287202   \n",
      "3786      SEK  SE8902TVVW36796985465424  SE8902TVVW36796985465424   \n",
      "4617      SEK  SE8902STGX47356996647044  SE8902STGX47356996647044   \n",
      "4943      SEK  SE8902HONR88805902495744  SE8902HONR88805902495744   \n",
      "5151      SEK  SE8902HHIF82963758493406  SE8902HHIF82963758493406   \n",
      "6805      SEK  SE8902RYKE86473925510810  SE8902RYKE86473925510810   \n",
      "6844      SEK  SE8902FVVV61614688034328  SE8902FVVV61614688034328   \n",
      "7211      SEK  SE8902LBEJ82420799986072  SE8902LBEJ82420799986072   \n",
      "8603      SEK  SE8902UBCU90744779272095  SE8902UBCU90744779272095   \n",
      "8869      SEK  SE8902WPHL32329175684552  SE8902WPHL32329175684552   \n",
      "9683      SEK  SE8902DSQM48924442124429  SE8902DSQM48924442124429   \n",
      "\n",
      "     sender_country sender_municipality receiver_country  \\\n",
      "1173         Sweden          Norrköping           Sweden   \n",
      "2444         Sweden           Jönköping           Sweden   \n",
      "2464         Sweden         Trollhättan           Sweden   \n",
      "2912         Sweden               Piteå           Sweden   \n",
      "3380         Sweden        Örnsköldsvik           Sweden   \n",
      "3768         Sweden           Linköping           Sweden   \n",
      "3786         Sweden               Falun           Sweden   \n",
      "4617         Sweden           Sundsvall           Sweden   \n",
      "4943         Sweden               Malmö           Sweden   \n",
      "5151         Sweden          Norrköping           Sweden   \n",
      "6805         Sweden           Sandviken           Sweden   \n",
      "6844         Sweden        Kristianstad           Sweden   \n",
      "7211         Sweden           Uddevalla           Sweden   \n",
      "8603         Sweden           Karlskoga           Sweden   \n",
      "8869         Sweden           Stockholm           Sweden   \n",
      "9683         Sweden               Växjö           Sweden   \n",
      "\n",
      "     receiver_municipality transaction_type                      notes  \n",
      "1173                 Luleå         incoming           Insurance payout  \n",
      "2444                Motala         incoming               Utility bill  \n",
      "2464              Karlstad         outgoing            Online purchase  \n",
      "2912          Örnsköldsvik         incoming              Rent transfer  \n",
      "3380               Mölndal         incoming                 Tax refund  \n",
      "3768            Skellefteå         outgoing           Insurance payout  \n",
      "3786             Linköping         incoming           Subscription fee  \n",
      "4617            Södertälje         incoming              Rent transfer  \n",
      "4943              Västerås         outgoing   Reimbursement for travel  \n",
      "5151              Karlstad         incoming           Insurance payout  \n",
      "6805             Sundsvall         incoming                 Tax refund  \n",
      "6844             Sandviken         outgoing  Payment for invoice #1219  \n",
      "7211             Uddevalla         outgoing  Payment for invoice #1704  \n",
      "8603             Östersund         incoming  Freelance project payment  \n",
      "8869              Halmstad         incoming             Loan repayment  \n",
      "9683               Mölndal         outgoing           Insurance payout  \n"
     ]
    }
   ],
   "source": [
    "## Ser duplicerade kontonummer, samma kontonummer bör inte skicka pengar till sig själv (men kan). \n",
    "\n",
    "transactions_to_self = df[df['sender_account'] == df['receiver_account']]\n",
    "print(\"Självtransaktioner (avsändare = mottagare):\")\n",
    "print(transactions_to_self)"
   ]
  },
  {
   "cell_type": "markdown",
   "id": "c244ce08",
   "metadata": {},
   "source": [
    "4. Timeliness"
   ]
  },
  {
   "cell_type": "code",
   "execution_count": 8,
   "id": "3fe32e1e",
   "metadata": {},
   "outputs": [
    {
     "name": "stdout",
     "output_type": "stream",
     "text": [
      "Antal framtida transaktioner: 810\n"
     ]
    }
   ],
   "source": [
    "## Tar reda på om det finns framtida transaktioner. \n",
    "\n",
    "from datetime import datetime\n",
    "future_transactions = df[df['timestamp'] > pd.Timestamp(datetime.now())]\n",
    "print(f\"Antal framtida transaktioner: {len(future_transactions)}\")"
   ]
  },
  {
   "cell_type": "markdown",
   "id": "5193279c",
   "metadata": {},
   "source": [
    "5. Uniqueness"
   ]
  },
  {
   "cell_type": "code",
   "execution_count": 9,
   "id": "039b67cd",
   "metadata": {},
   "outputs": [
    {
     "name": "stdout",
     "output_type": "stream",
     "text": [
      "Antal helt dubbletterade rader: 0\n"
     ]
    }
   ],
   "source": [
    "duplicated_rows = df[df.duplicated()]\n",
    "print(f\"Antal helt dubbletterade rader: {len(duplicated_rows)}\")\n"
   ]
  },
  {
   "cell_type": "markdown",
   "id": "05151b7f",
   "metadata": {},
   "source": [
    "6. Validity"
   ]
  },
  {
   "cell_type": "code",
   "execution_count": 10,
   "id": "403f3519",
   "metadata": {},
   "outputs": [
    {
     "name": "stdout",
     "output_type": "stream",
     "text": [
      "Ogiltiga datumformat:\n",
      "                            transaction_id timestamp\n",
      "372   e13b1664-c549-4f92-895a-1f941dd6d82e       NaT\n",
      "374   7bfcf599-e449-4e63-a3f9-05631511e58a       NaT\n",
      "432   b75a64f1-d111-4261-9df0-53f2c38e2828       NaT\n",
      "566   bc91f1d3-e0b0-471b-844f-7e14941d3236       NaT\n",
      "658   e4ec0cfc-55e8-4ca1-b3f4-0948a1b8e997       NaT\n",
      "661   13638365-972b-4fd8-9518-f27557a7e1cd       NaT\n",
      "761   fda4c622-1044-49aa-bc41-b44bdd50bc9c       NaT\n",
      "814   bc23bd09-5b6a-4ebe-95ae-7dad0cde315a       NaT\n",
      "817   9687e5ce-f8e0-4afa-ac0c-54d8c6ef457f       NaT\n",
      "821   aee31e4c-e8c1-4fa5-b8bf-53815ab51b55       NaT\n",
      "866   f46345d0-c1f8-46d7-ae78-47c4a6b52fee       NaT\n",
      "876   2f48c8d5-cad7-48b0-8f8c-2f1324911dfd       NaT\n",
      "884   776cbccf-2d92-4e83-a702-6b6261fa7de0       NaT\n",
      "911   2452bd7a-a1b4-425d-a9e1-a6299edbc458       NaT\n",
      "913   bf0e480f-3993-4f19-99c3-8e223bd1cada       NaT\n",
      "1428  99ca438b-d55e-4ba4-b6fc-c353cc5d810b       NaT\n"
     ]
    }
   ],
   "source": [
    "## Tar reda på om timestamp följer mönster samt ska vara korrekt\n",
    "\n",
    "df['timestamp'] = pd.to_datetime(df['timestamp'], errors='coerce')\n",
    "invalid_date_stamp = df[df['timestamp'].isna()]\n",
    "print(\"Ogiltiga datumformat:\")\n",
    "print(invalid_date_stamp[['transaction_id', 'timestamp']])\n"
   ]
  },
  {
   "cell_type": "markdown",
   "id": "bc90b136",
   "metadata": {},
   "source": [
    "1. hur många unique accounts. "
   ]
  },
  {
   "cell_type": "code",
   "execution_count": null,
   "id": "79aa24d8",
   "metadata": {},
   "outputs": [
    {
     "name": "stdout",
     "output_type": "stream",
     "text": [
      "Unika avsändarkonton: 43476\n",
      "Unika mottagarkonton: 48524\n"
     ]
    }
   ],
   "source": [
    "unique_senders = df['sender_account'].nunique()\n",
    "unique_receivers = df['receiver_account'].nunique()\n",
    "\n",
    "print(f\"Unika avsändarkonton: {unique_senders}\")\n",
    "print(f\"Unika mottagarkonton: {unique_receivers}\")"
   ]
  },
  {
   "cell_type": "code",
   "execution_count": 11,
   "id": "1d125a26",
   "metadata": {},
   "outputs": [
    {
     "name": "stdout",
     "output_type": "stream",
     "text": [
      "Första transaktionen: 2022-04-17 01:00:00\n",
      "Sista transaktionen:  2026-05-16 04:25:00\n"
     ]
    }
   ],
   "source": [
    "df['timestamp'] = pd.to_datetime(df['timestamp'])\n",
    "\n",
    "first_date = df['timestamp'].min()\n",
    "last_date = df['timestamp'].max()\n",
    "\n",
    "print(f\"Första transaktionen: {first_date}\")\n",
    "print(f\"Sista transaktionen:  {last_date}\")"
   ]
  },
  {
   "cell_type": "code",
   "execution_count": 13,
   "id": "e3d73da7",
   "metadata": {},
   "outputs": [
    {
     "name": "stdout",
     "output_type": "stream",
     "text": [
      "Antal konton som används exakt 1 gång: 90000\n",
      "GB51VVFK25160287225693    1\n",
      "GB32AABH83046049290014    1\n",
      "GB81OEKN75585391631131    1\n",
      "GB43QMEV86896805847999    1\n",
      "GB95QADJ85843857143990    1\n",
      "                         ..\n",
      "GB66JZIP86811770875967    1\n",
      "GB61QOKX66684861584346    1\n",
      "GB56ODJW99788894272788    1\n",
      "GB92DQVC61241556119269    1\n",
      "GB53LASR90629371711664    1\n",
      "Name: count, Length: 90000, dtype: int64\n"
     ]
    }
   ],
   "source": [
    "# Kombinera alla konton\n",
    "all_accounts = pd.concat([df['sender_account'], df['receiver_account']])\n",
    "account_counts = all_accounts.value_counts()\n",
    "\n",
    "rare_accounts = account_counts[account_counts == 1]\n",
    "print(f\"Antal konton som används exakt 1 gång: {len(rare_accounts)}\")\n",
    "print(rare_accounts)"
   ]
  },
  {
   "cell_type": "code",
   "execution_count": 39,
   "id": "db5e9a1e",
   "metadata": {},
   "outputs": [
    {
     "name": "stdout",
     "output_type": "stream",
     "text": [
      "Antal konton med fler än 100 transaktioner: 680\n"
     ]
    }
   ],
   "source": [
    "frequent_accounts = account_counts[account_counts > 100]\n",
    "print(f\"Antal konton med fler än 100 transaktioner: {len(frequent_accounts)}\")\n"
   ]
  },
  {
   "cell_type": "code",
   "execution_count": 40,
   "id": "fa4ee87f",
   "metadata": {},
   "outputs": [
    {
     "name": "stdout",
     "output_type": "stream",
     "text": [
      "SE8902SBJA55969190091622    320\n",
      "SE8902JWUP15793818606310    307\n",
      "SE8902EXIB33653688394695    304\n",
      "SE8902XNNG22633901157104    236\n",
      "SE8902WAUN43737771587933    231\n",
      "SE8902UZFC35584103012440    223\n",
      "SE8902ENIP08812598160608    221\n",
      "SE8902TJBY61470456909170    221\n",
      "SE8902SPDW36248491049541    217\n",
      "SE8902CZCK70016925304587    217\n",
      "Name: count, dtype: int64\n"
     ]
    }
   ],
   "source": [
    "print(account_counts.head(10))"
   ]
  },
  {
   "cell_type": "code",
   "execution_count": 14,
   "id": "2e957eed",
   "metadata": {},
   "outputs": [
    {
     "name": "stdout",
     "output_type": "stream",
     "text": [
      "First date: 2022-04-17 01:00:00\n",
      "Last date: 2026-05-16 04:25:00\n",
      "Total unique accounts: 91000\n",
      "Rare accounts (used once): 90000\n",
      "Accounts with >100 transactions: 680\n"
     ]
    }
   ],
   "source": [
    "summary = {\n",
    "    \"First date\": df['timestamp'].min(),\n",
    "    \"Last date\": df['timestamp'].max(),\n",
    "    \"Total unique accounts\": all_accounts.nunique(),\n",
    "    \"Rare accounts (used once)\": (account_counts == 1).sum(),\n",
    "    \"Accounts with >100 transactions\": (account_counts > 100).sum()\n",
    "}\n",
    "\n",
    "for k, v in summary.items():\n",
    "    print(f\"{k}: {v}\")"
   ]
  },
  {
   "cell_type": "code",
   "execution_count": 15,
   "id": "bb35da27",
   "metadata": {},
   "outputs": [
    {
     "name": "stdout",
     "output_type": "stream",
     "text": [
      "Antal transaktioner inom Sverige: 56105\n"
     ]
    }
   ],
   "source": [
    "swedish_transactions = df[(df['sender_country'] == 'Sweden') & (df['receiver_country'] == 'Sweden')]\n",
    "print(f\"Antal transaktioner inom Sverige: {len(swedish_transactions)}\")"
   ]
  },
  {
   "cell_type": "code",
   "execution_count": 46,
   "id": "02114600",
   "metadata": {},
   "outputs": [],
   "source": [
    "df['amount'] = pd.to_numeric(df['amount'], errors='coerce')"
   ]
  },
  {
   "cell_type": "code",
   "execution_count": 48,
   "id": "977f6906",
   "metadata": {},
   "outputs": [
    {
     "name": "stdout",
     "output_type": "stream",
     "text": [
      "Totalt ut: 1195467696.59 SEK\n",
      "Totalt in: 1185184425.82 SEK\n",
      "Mer pengar har skickats ut än tagits emot.\n"
     ]
    }
   ],
   "source": [
    "total_outgoing = df[df['transaction_type'] == 'outgoing']['amount'].sum()\n",
    "total_incoming = df[df['transaction_type'] == 'incoming']['amount'].sum()\n",
    "\n",
    "print(f\"Totalt ut: {total_outgoing:.2f} {df['currency'].iloc[0]}\")\n",
    "print(f\"Totalt in: {total_incoming:.2f} {df['currency'].iloc[0]}\")\n",
    "\n",
    "if total_outgoing > total_incoming:\n",
    "    print(\"Mer pengar har skickats ut än tagits emot.\")\n",
    "elif total_outgoing < total_incoming:\n",
    "    print(\"Mer pengar har tagits emot än skickats ut.\")\n",
    "else:\n",
    "    print(\"Lika mycket har skickats ut som tagits emot.\")\n"
   ]
  }
 ],
 "metadata": {
  "kernelspec": {
   "display_name": "base",
   "language": "python",
   "name": "python3"
  },
  "language_info": {
   "codemirror_mode": {
    "name": "ipython",
    "version": 3
   },
   "file_extension": ".py",
   "mimetype": "text/x-python",
   "name": "python",
   "nbconvert_exporter": "python",
   "pygments_lexer": "ipython3",
   "version": "3.12.7"
  }
 },
 "nbformat": 4,
 "nbformat_minor": 5
}
