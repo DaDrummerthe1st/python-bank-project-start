{
 "cells": [
  {
   "cell_type": "code",
   "execution_count": 1,
   "metadata": {},
   "outputs": [],
   "source": [
    "import pandas as pd\n",
    "import psycopg2\n",
    "from psycopg2.extras import execute_values\n",
    "from sqlalchemy import create_engine\n",
    "from sqlalchemy.orm import sessionmaker\n",
    "from db import SessionLocal\n",
    "from sqlalchemy.exc import IntegrityError\n"
   ]
  },
  {
   "cell_type": "code",
   "execution_count": 2,
   "metadata": {},
   "outputs": [],
   "source": [
    "## läser vi in våra två csv filer \n",
    "df_sebank_customers_1 = pd.read_csv(\"/Users/k/Documents/TUC/DataQuality/python-bank-project-start/data/sebank_customers_with_accounts.csv\")\n",
    "df_sebank_customers_2 = pd.read_csv(\"/Users/k/Documents/TUC/DataQuality/python-bank-project-start/data/sebank_customers_with_accounts_2.csv\")\n"
   ]
  },
  {
   "cell_type": "code",
   "execution_count": 3,
   "metadata": {},
   "outputs": [],
   "source": [
    "merged_df = pd.concat([df_sebank_customers_1, df_sebank_customers_2], ignore_index=True) # slår ihop två dataframe filer med pd.concat()\n",
    "merged_df.to_csv(\"sebank_merged_data.csv\", index=False) # sparar den till en csv kallad sebank_merged_data.csv"
   ]
  },
  {
   "cell_type": "code",
   "execution_count": 4,
   "metadata": {},
   "outputs": [],
   "source": [
    "df_sebank_merged = pd.read_csv(\"/Users/k/Documents/TUC/DataQuality/python-bank-project-start/data/sebank_merged_data.csv\") # läser vi in den sammanfogade filen\n",
    "session = SessionLocal() # skapar en ny session för vår databas där vi nu kan med olika databasoperationer intregerara"
   ]
  },
  {
   "cell_type": "code",
   "execution_count": 5,
   "metadata": {},
   "outputs": [
    {
     "name": "stdout",
     "output_type": "stream",
     "text": [
      "Normalisering klar! Filen innehåller:\n",
      "1160 unika kunder\n",
      "2000 konton kopplade till kunder\n"
     ]
    }
   ],
   "source": [
    "# här skapar vi en dataframe för våra unika kunder där vi väljer specifika kolumner och även atr bort dibletter från den mergeade filen\n",
    "df_customers = df_sebank_merged[['Customer', 'Address', 'Phone', 'Personnummer']].drop_duplicates().reset_index(drop=True)\n",
    "df_customers.rename(columns={ # vi ändrar kolumnanmen för att det ska passa vår normalisering \n",
    "    'Customer': 'name',\n",
    "    'Address': 'address',\n",
    "    'Phone': 'phone',\n",
    "    'Personnummer': 'personnummer'\n",
    "}, inplace=True)\n",
    "\n",
    "# skapar en dataframe som innehåller bankkonton med deras koppling till personnummer, här väljer vi BankAccount och Personnummer för vår df\n",
    "df_accounts = df_sebank_merged[['BankAccount', 'Personnummer']].copy()\n",
    "df_accounts.rename(columns={\n",
    "    'BankAccount': 'number', # ändrar BankAccount till number \n",
    "    'Personnummer': 'personnummer' # ändrar Personnummer till personnummer \n",
    "}, inplace=True)\n",
    "\n",
    "# Spara normaliserad data som nya CSV-filer\n",
    "df_customers.to_csv(\"normalized_customers.csv\", index=False)\n",
    "df_accounts.to_csv(\"normalized_accounts.csv\", index=False)\n",
    "\n",
    "# denna del är endast för att kunnna få bekräftelse på det vi gjort \n",
    "print(\"Normalisering klar! Filen innehåller:\") \n",
    "print(f\"{len(df_customers)} unika kunder\")\n",
    "print(f\"{len(df_accounts)} konton kopplade till kunder\")\n"
   ]
  }
 ],
 "metadata": {
  "kernelspec": {
   "display_name": "base",
   "language": "python",
   "name": "python3"
  },
  "language_info": {
   "codemirror_mode": {
    "name": "ipython",
    "version": 3
   },
   "file_extension": ".py",
   "mimetype": "text/x-python",
   "name": "python",
   "nbconvert_exporter": "python",
   "pygments_lexer": "ipython3",
   "version": "3.12.2"
  }
 },
 "nbformat": 4,
 "nbformat_minor": 2
}
