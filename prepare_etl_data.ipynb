{
 "cells": [
  {
   "cell_type": "code",
   "execution_count": 62,
   "metadata": {},
   "outputs": [],
   "source": [
    "import pandas as pd\n",
    "from datetime import datetime, timedelta\n",
    "import calendar\n",
    "from dateutil import parser"
   ]
  },
  {
   "cell_type": "code",
   "execution_count": 38,
   "metadata": {},
   "outputs": [
    {
     "name": "stderr",
     "output_type": "stream",
     "text": [
      "/var/folders/bj/1mckt7zn22xfvns4k5jdg5kr0000gn/T/ipykernel_78425/4199926100.py:1: DtypeWarning: Columns (2) have mixed types. Specify dtype option on import or set low_memory=False.\n",
      "  df = pd.read_csv(\"/Users/demafalih/python-bank-project-start/data/transactions.csv\")\n"
     ]
    }
   ],
   "source": [
    "df = pd.read_csv(\"/Users/demafalih/python-bank-project-start/data/transactions.csv\")"
   ]
  },
  {
   "cell_type": "markdown",
   "metadata": {},
   "source": [
    "---\n",
    "### Tar bort mellanslag och dolda tecken:"
   ]
  },
  {
   "cell_type": "code",
   "execution_count": 39,
   "metadata": {},
   "outputs": [],
   "source": [
    "for col in df.columns:\n",
    "    if df[col].dtype == 'object':\n",
    "       df[col] = df[col].astype(str)\n",
    "       df[col] = df[col].str.replace(r\"[\\t\\xa0]\", \"\", regex=True)\n",
    "       df[col] = df[col].str.strip() "
   ]
  },
  {
   "cell_type": "code",
   "execution_count": 40,
   "metadata": {},
   "outputs": [],
   "source": [
    "df['amount'] = df['amount'].str.replace(\" \", \"\")\n",
    "df['amount'] = df['amount'].astype(float)"
   ]
  },
  {
   "cell_type": "code",
   "execution_count": 41,
   "metadata": {},
   "outputs": [
    {
     "name": "stdout",
     "output_type": "stream",
     "text": [
      "                         transaction_id            timestamp    amount  \\\n",
      "0  f2f3b0fc-b7d7-4d85-b682-cbf07ef77c1a  2025-03-06 12:04:00   7746.03   \n",
      "1  feccbd1e-7752-4452-a44a-901510252561  2025-03-31 01:37:00  45193.04   \n",
      "2  bc6a480c-e2e1-434d-830c-1cda3f913038  2025-04-29 22:58:00  33029.71   \n",
      "3  b832aa2c-77f3-4c4f-9697-9776b8d74abb  2025-02-27 14:52:00  35994.61   \n",
      "4  0d32c6ef-508e-4f5d-bc64-341a0a9f498d  2025-01-03 22:29:00  32229.73   \n",
      "\n",
      "  currency            sender_account          receiver_account sender_country  \\\n",
      "0      SEK  SE8902EWFT80524424320740  SE8902ZUIH32054423564254         Sweden   \n",
      "1      SEK  SE8902GTSI58472323675409  SE8902ERNA19462716907689         Sweden   \n",
      "2      SEK  SE8902SEZT63377163386089  SE8902LOLQ30361773270969         Sweden   \n",
      "3      SEK  SE8902MGEE43594824630478  SE8902XIVG18316797897983         Sweden   \n",
      "4      SEK  SE8902SZWO66860675966705  SE8902SUUS97732018069804         Sweden   \n",
      "\n",
      "  sender_municipality receiver_country receiver_municipality transaction_type  \\\n",
      "0          Karlskrona           Sweden            Eskilstuna         outgoing   \n",
      "1               Piteå           Sweden            Norrköping         outgoing   \n",
      "2           Östersund           Sweden             Karlskoga         incoming   \n",
      "3            Karlstad           Sweden           Helsingborg         incoming   \n",
      "4          Skellefteå           Sweden                 Falun         outgoing   \n",
      "\n",
      "             notes  \n",
      "0  Online purchase  \n",
      "1       Tax refund  \n",
      "2       Tax refund  \n",
      "3              nan  \n",
      "4       Tax refund  \n",
      "transaction_id            object\n",
      "timestamp                 object\n",
      "amount                   float64\n",
      "currency                  object\n",
      "sender_account            object\n",
      "receiver_account          object\n",
      "sender_country            object\n",
      "sender_municipality       object\n",
      "receiver_country          object\n",
      "receiver_municipality     object\n",
      "transaction_type          object\n",
      "notes                     object\n",
      "dtype: object\n"
     ]
    }
   ],
   "source": [
    "print(df.head())\n",
    "print(df.dtypes)"
   ]
  },
  {
   "cell_type": "markdown",
   "metadata": {},
   "source": [
    "---\n",
    "### Rätta felstavningar (currency)"
   ]
  },
  {
   "cell_type": "code",
   "execution_count": 42,
   "metadata": {},
   "outputs": [
    {
     "name": "stdout",
     "output_type": "stream",
     "text": [
      "['SEK' 'SKR' 'DKK' 'USD' 'EUR' 'NOK' 'RMB' 'ZAR' 'GBP' 'ZMW' 'JPY']\n"
     ]
    }
   ],
   "source": [
    "print(df['currency'].unique())"
   ]
  },
  {
   "cell_type": "code",
   "execution_count": 43,
   "metadata": {},
   "outputs": [
    {
     "name": "stdout",
     "output_type": "stream",
     "text": [
      "['SEK' 'DKK' 'USD' 'EUR' 'NOK' 'CNY' 'ZAR' 'GBP' 'ZMW' 'JPY']\n"
     ]
    }
   ],
   "source": [
    "currency_corrections = {\n",
    "    'SKR': 'SEK',\n",
    "    'RMB': 'CNY'  # google sa att rmb är valutan men cny är officiella koden\n",
    "}\n",
    "df['currency'] = df['currency'].replace(currency_corrections)\n",
    "print(df['currency'].unique())"
   ]
  },
  {
   "cell_type": "markdown",
   "metadata": {},
   "source": [
    "---\n",
    "### Fixa timestamp kolumnen (saknade och felaktigt formaterade datum)"
   ]
  },
  {
   "cell_type": "code",
   "execution_count": 44,
   "metadata": {},
   "outputs": [],
   "source": [
    "df['timestamp_original'] = df['timestamp']\n",
    "\n",
    "# för att spara en kopia av de ursprungliga datumen innan rensningen börjar, så om något går fel kan man alltid gå tillbaka."
   ]
  },
  {
   "cell_type": "code",
   "execution_count": 93,
   "metadata": {},
   "outputs": [],
   "source": [
    "def fix_timestamp(text):\n",
    "    try:\n",
    "        return parser.parse(str(text))\n",
    "    except:\n",
    "        return None\n",
    "\n",
    "df['timestamp_cleaned'] = df['timestamp_original'].apply(fix_timestamp)\n",
    "\n",
    "df['timestamp_cleaned'] = df['timestamp_cleaned'].apply(\n",
    "    lambda x: x.strftime('%Y-%m-%d %H:%M:%S') if pd.notna(x) else None\n",
    ")"
   ]
  },
  {
   "cell_type": "code",
   "execution_count": 46,
   "metadata": {},
   "outputs": [],
   "source": [
    "df['timestamp'] = df['timestamp_cleaned']\n",
    "df.drop(columns=['timestamp_cleaned'], inplace=True)"
   ]
  },
  {
   "cell_type": "code",
   "execution_count": 53,
   "metadata": {},
   "outputs": [
    {
     "data": {
      "text/html": [
       "<div>\n",
       "<style scoped>\n",
       "    .dataframe tbody tr th:only-of-type {\n",
       "        vertical-align: middle;\n",
       "    }\n",
       "\n",
       "    .dataframe tbody tr th {\n",
       "        vertical-align: top;\n",
       "    }\n",
       "\n",
       "    .dataframe thead th {\n",
       "        text-align: right;\n",
       "    }\n",
       "</style>\n",
       "<table border=\"1\" class=\"dataframe\">\n",
       "  <thead>\n",
       "    <tr style=\"text-align: right;\">\n",
       "      <th></th>\n",
       "      <th>timestamp_original</th>\n",
       "      <th>timestamp</th>\n",
       "    </tr>\n",
       "  </thead>\n",
       "  <tbody>\n",
       "    <tr>\n",
       "      <th>372</th>\n",
       "      <td>20250125 04:48:00</td>\n",
       "      <td>2025-01-25 04:48:00</td>\n",
       "    </tr>\n",
       "    <tr>\n",
       "      <th>374</th>\n",
       "      <td>25-04-09 12:12:00</td>\n",
       "      <td>2009-04-25 12:12:00</td>\n",
       "    </tr>\n",
       "    <tr>\n",
       "      <th>432</th>\n",
       "      <td>25-01-26 09:01:00</td>\n",
       "      <td>2026-01-25 09:01:00</td>\n",
       "    </tr>\n",
       "    <tr>\n",
       "      <th>566</th>\n",
       "      <td>20250215 07:06:00</td>\n",
       "      <td>2025-02-15 07:06:00</td>\n",
       "    </tr>\n",
       "    <tr>\n",
       "      <th>658</th>\n",
       "      <td>2025-01-18 16:14</td>\n",
       "      <td>2025-01-18 16:14:00</td>\n",
       "    </tr>\n",
       "    <tr>\n",
       "      <th>661</th>\n",
       "      <td>2025-02-16 23:04</td>\n",
       "      <td>2025-02-16 23:04:00</td>\n",
       "    </tr>\n",
       "    <tr>\n",
       "      <th>761</th>\n",
       "      <td>2025-05-18 09:52</td>\n",
       "      <td>2025-05-18 09:52:00</td>\n",
       "    </tr>\n",
       "    <tr>\n",
       "      <th>814</th>\n",
       "      <td>2025-01-30 23.30</td>\n",
       "      <td>2025-01-30 23:30:00</td>\n",
       "    </tr>\n",
       "    <tr>\n",
       "      <th>817</th>\n",
       "      <td>2025-04-01 09.15:00</td>\n",
       "      <td>2025-04-01 09:00:00</td>\n",
       "    </tr>\n",
       "    <tr>\n",
       "      <th>821</th>\n",
       "      <td>2025-01-31 24:30:00</td>\n",
       "      <td>2025-02-01 00:30:00</td>\n",
       "    </tr>\n",
       "    <tr>\n",
       "      <th>866</th>\n",
       "      <td>2025-04-31 15:17:00</td>\n",
       "      <td>2025-04-30 15:17:00</td>\n",
       "    </tr>\n",
       "    <tr>\n",
       "      <th>876</th>\n",
       "      <td>2025-02-30 02:58:00</td>\n",
       "      <td>2025-02-28 02:58:00</td>\n",
       "    </tr>\n",
       "    <tr>\n",
       "      <th>884</th>\n",
       "      <td>2025-02-29 01:20:00</td>\n",
       "      <td>2025-02-28 01:20:00</td>\n",
       "    </tr>\n",
       "    <tr>\n",
       "      <th>911</th>\n",
       "      <td>2025-02-29 09:00:00</td>\n",
       "      <td>2025-02-28 09:00:00</td>\n",
       "    </tr>\n",
       "    <tr>\n",
       "      <th>913</th>\n",
       "      <td>2025-02-30 19:43:00</td>\n",
       "      <td>2025-02-28 19:43:00</td>\n",
       "    </tr>\n",
       "    <tr>\n",
       "      <th>1428</th>\n",
       "      <td>2025-01-00 10:48:00</td>\n",
       "      <td>NaN</td>\n",
       "    </tr>\n",
       "  </tbody>\n",
       "</table>\n",
       "</div>"
      ],
      "text/plain": [
       "       timestamp_original            timestamp\n",
       "372     20250125 04:48:00  2025-01-25 04:48:00\n",
       "374     25-04-09 12:12:00  2009-04-25 12:12:00\n",
       "432     25-01-26 09:01:00  2026-01-25 09:01:00\n",
       "566     20250215 07:06:00  2025-02-15 07:06:00\n",
       "658      2025-01-18 16:14  2025-01-18 16:14:00\n",
       "661      2025-02-16 23:04  2025-02-16 23:04:00\n",
       "761      2025-05-18 09:52  2025-05-18 09:52:00\n",
       "814      2025-01-30 23.30  2025-01-30 23:30:00\n",
       "817   2025-04-01 09.15:00  2025-04-01 09:00:00\n",
       "821   2025-01-31 24:30:00  2025-02-01 00:30:00\n",
       "866   2025-04-31 15:17:00  2025-04-30 15:17:00\n",
       "876   2025-02-30 02:58:00  2025-02-28 02:58:00\n",
       "884   2025-02-29 01:20:00  2025-02-28 01:20:00\n",
       "911   2025-02-29 09:00:00  2025-02-28 09:00:00\n",
       "913   2025-02-30 19:43:00  2025-02-28 19:43:00\n",
       "1428  2025-01-00 10:48:00                  NaN"
      ]
     },
     "execution_count": 53,
     "metadata": {},
     "output_type": "execute_result"
    }
   ],
   "source": [
    "mask = df['timestamp'] != df['timestamp_original']\n",
    "df.loc[mask, ['timestamp_original', 'timestamp']]"
   ]
  },
  {
   "cell_type": "code",
   "execution_count": 48,
   "metadata": {},
   "outputs": [],
   "source": [
    "mask = df['timestamp'].isna() & df['timestamp_original'].notna()\n",
    "to_fix = df.loc[mask, 'timestamp_original']"
   ]
  },
  {
   "cell_type": "code",
   "execution_count": 49,
   "metadata": {},
   "outputs": [],
   "source": [
    "def smart_fix(ts):\n",
    "    if pd.isna(ts):\n",
    "        return None\n",
    "\n",
    "    ts = str(ts).strip()\n",
    "    ts = ts.replace('/', '-')\n",
    "    ts = ts.replace('.', ':')\n",
    "\n",
    "    if len(ts) <= 10:\n",
    "        ts += \" 00:00:00\"\n",
    "\n",
    "    parts = ts.split(' ')\n",
    "    if len(parts) == 2 and len(parts[1].split(':')) == 2:\n",
    "        ts = parts[0] + ' ' + parts[1] + ':00'\n",
    "\n",
    "    try:\n",
    "        return pd.to_datetime(ts, errors='raise')\n",
    "    except:\n",
    "        pass\n",
    "\n",
    "    try:\n",
    "        date_part, time_part = ts.split(' ')\n",
    "        h, m, *s = time_part.split(':')\n",
    "        if h == '24':\n",
    "            h = '00'\n",
    "            time_fixed = ':'.join([h, m] + (s if s else ['00']))\n",
    "            dt = pd.to_datetime(date_part, errors='raise') + timedelta(days=1)\n",
    "            return pd.to_datetime(f\"{dt.date()} {time_fixed}\")\n",
    "    except:\n",
    "        pass\n",
    "\n",
    "    try:\n",
    "        date_part, time_part = ts.split(' ')\n",
    "        y, m, d = map(int, date_part.split('-'))\n",
    "        d_max = calendar.monthrange(y, m)[1]\n",
    "        d = min(d, d_max)\n",
    "        dt = pd.to_datetime(f\"{y}-{m:02d}-{d:02d} {time_part}\", errors='raise')\n",
    "        return dt\n",
    "    except:\n",
    "        return None"
   ]
  },
  {
   "cell_type": "code",
   "execution_count": 50,
   "metadata": {},
   "outputs": [],
   "source": [
    "fixed = to_fix.apply(smart_fix)\n",
    "df.loc[mask, 'timestamp'] = fixed.dt.strftime('%Y-%m-%d %H:%M:%S')"
   ]
  },
  {
   "cell_type": "code",
   "execution_count": 51,
   "metadata": {},
   "outputs": [
    {
     "data": {
      "text/html": [
       "<div>\n",
       "<style scoped>\n",
       "    .dataframe tbody tr th:only-of-type {\n",
       "        vertical-align: middle;\n",
       "    }\n",
       "\n",
       "    .dataframe tbody tr th {\n",
       "        vertical-align: top;\n",
       "    }\n",
       "\n",
       "    .dataframe thead th {\n",
       "        text-align: right;\n",
       "    }\n",
       "</style>\n",
       "<table border=\"1\" class=\"dataframe\">\n",
       "  <thead>\n",
       "    <tr style=\"text-align: right;\">\n",
       "      <th></th>\n",
       "      <th>timestamp_original</th>\n",
       "      <th>timestamp</th>\n",
       "    </tr>\n",
       "  </thead>\n",
       "  <tbody>\n",
       "    <tr>\n",
       "      <th>814</th>\n",
       "      <td>2025-01-30 23.30</td>\n",
       "      <td>2025-01-30 23:30:00</td>\n",
       "    </tr>\n",
       "    <tr>\n",
       "      <th>821</th>\n",
       "      <td>2025-01-31 24:30:00</td>\n",
       "      <td>2025-02-01 00:30:00</td>\n",
       "    </tr>\n",
       "    <tr>\n",
       "      <th>866</th>\n",
       "      <td>2025-04-31 15:17:00</td>\n",
       "      <td>2025-04-30 15:17:00</td>\n",
       "    </tr>\n",
       "    <tr>\n",
       "      <th>876</th>\n",
       "      <td>2025-02-30 02:58:00</td>\n",
       "      <td>2025-02-28 02:58:00</td>\n",
       "    </tr>\n",
       "    <tr>\n",
       "      <th>884</th>\n",
       "      <td>2025-02-29 01:20:00</td>\n",
       "      <td>2025-02-28 01:20:00</td>\n",
       "    </tr>\n",
       "    <tr>\n",
       "      <th>911</th>\n",
       "      <td>2025-02-29 09:00:00</td>\n",
       "      <td>2025-02-28 09:00:00</td>\n",
       "    </tr>\n",
       "    <tr>\n",
       "      <th>913</th>\n",
       "      <td>2025-02-30 19:43:00</td>\n",
       "      <td>2025-02-28 19:43:00</td>\n",
       "    </tr>\n",
       "    <tr>\n",
       "      <th>1428</th>\n",
       "      <td>2025-01-00 10:48:00</td>\n",
       "      <td>NaN</td>\n",
       "    </tr>\n",
       "  </tbody>\n",
       "</table>\n",
       "</div>"
      ],
      "text/plain": [
       "       timestamp_original            timestamp\n",
       "814      2025-01-30 23.30  2025-01-30 23:30:00\n",
       "821   2025-01-31 24:30:00  2025-02-01 00:30:00\n",
       "866   2025-04-31 15:17:00  2025-04-30 15:17:00\n",
       "876   2025-02-30 02:58:00  2025-02-28 02:58:00\n",
       "884   2025-02-29 01:20:00  2025-02-28 01:20:00\n",
       "911   2025-02-29 09:00:00  2025-02-28 09:00:00\n",
       "913   2025-02-30 19:43:00  2025-02-28 19:43:00\n",
       "1428  2025-01-00 10:48:00                  NaN"
      ]
     },
     "execution_count": 51,
     "metadata": {},
     "output_type": "execute_result"
    }
   ],
   "source": [
    "df.loc[mask, ['timestamp_original', 'timestamp']]"
   ]
  },
  {
   "cell_type": "code",
   "execution_count": 54,
   "metadata": {},
   "outputs": [],
   "source": [
    "# Fixa 1428 manuellt (får inte egentligen men det är det närmaste giltliga datumet till 00)\n",
    "df.loc[1428, 'timestamp'] = pd.to_datetime(\"2025-01-01 10:48:00\")"
   ]
  },
  {
   "cell_type": "code",
   "execution_count": 55,
   "metadata": {},
   "outputs": [
    {
     "data": {
      "text/plain": [
       "timestamp_original    2025-01-00 10:48:00\n",
       "timestamp             2025-01-01 10:48:00\n",
       "Name: 1428, dtype: object"
      ]
     },
     "execution_count": 55,
     "metadata": {},
     "output_type": "execute_result"
    }
   ],
   "source": [
    "df.loc[1428, ['timestamp_original', 'timestamp']]"
   ]
  },
  {
   "cell_type": "code",
   "execution_count": 56,
   "metadata": {},
   "outputs": [
    {
     "data": {
      "text/plain": [
       "transaction_id            object\n",
       "timestamp                 object\n",
       "amount                   float64\n",
       "currency                  object\n",
       "sender_account            object\n",
       "receiver_account          object\n",
       "sender_country            object\n",
       "sender_municipality       object\n",
       "receiver_country          object\n",
       "receiver_municipality     object\n",
       "transaction_type          object\n",
       "notes                     object\n",
       "timestamp_original        object\n",
       "dtype: object"
      ]
     },
     "execution_count": 56,
     "metadata": {},
     "output_type": "execute_result"
    }
   ],
   "source": [
    "df.dtypes"
   ]
  },
  {
   "cell_type": "code",
   "execution_count": 57,
   "metadata": {},
   "outputs": [],
   "source": [
    "df['timestamp'] = pd.to_datetime(df['timestamp'], errors='coerce')"
   ]
  },
  {
   "cell_type": "code",
   "execution_count": 58,
   "metadata": {},
   "outputs": [
    {
     "name": "stdout",
     "output_type": "stream",
     "text": [
      "datetime64[ns]\n"
     ]
    }
   ],
   "source": [
    "print(df['timestamp'].dtype)"
   ]
  },
  {
   "cell_type": "markdown",
   "metadata": {},
   "source": [
    "---\n",
    "### Lösning för nullvärden: Sender och receiver country/municipality"
   ]
  },
  {
   "cell_type": "code",
   "execution_count": 63,
   "metadata": {},
   "outputs": [],
   "source": [
    "cols = ['sender_country', 'sender_municipality', 'receiver_country', 'receiver_municipality']\n",
    "df[cols] = df[cols].fillna('Unknown')"
   ]
  },
  {
   "cell_type": "code",
   "execution_count": 87,
   "metadata": {},
   "outputs": [
    {
     "name": "stdout",
     "output_type": "stream",
     "text": [
      "transaction_id              0\n",
      "timestamp                   0\n",
      "amount                      0\n",
      "currency                    0\n",
      "sender_account              0\n",
      "receiver_account            0\n",
      "sender_country              0\n",
      "sender_municipality         0\n",
      "receiver_country            0\n",
      "receiver_municipality       0\n",
      "transaction_type            0\n",
      "notes                    9982\n",
      "timestamp_original          0\n",
      "dtype: int64\n"
     ]
    }
   ],
   "source": [
    "print(df.isna().sum())"
   ]
  },
  {
   "cell_type": "markdown",
   "metadata": {},
   "source": [
    "Alltså lägger \"unknown\" där det är tomt för att tydligt markera att datan saknas utan att ta bort nånting eller hitta på egna värden, så man inte heller går emot \"Accuracy\".\n",
    "Det gör att datan blir iallafall komplett o körbart och går att analysera."
   ]
  },
  {
   "cell_type": "markdown",
   "metadata": {},
   "source": [
    "---\n",
    "### Nullvärden - notes"
   ]
  },
  {
   "cell_type": "markdown",
   "metadata": {},
   "source": [
    "Hellre behåller nullvärden, att använda \"Unknown\" lösningen funkar inte lika bra här, då man inte längre kan skilja mellan saknade anteckningar och någon som har skrivit \"unknown\" som kommentar."
   ]
  },
  {
   "cell_type": "code",
   "execution_count": 91,
   "metadata": {},
   "outputs": [
    {
     "name": "stdout",
     "output_type": "stream",
     "text": [
      "9982\n"
     ]
    }
   ],
   "source": [
    "print(df['notes'].isna().sum())"
   ]
  }
 ],
 "metadata": {
  "kernelspec": {
   "display_name": "base",
   "language": "python",
   "name": "python3"
  },
  "language_info": {
   "codemirror_mode": {
    "name": "ipython",
    "version": 3
   },
   "file_extension": ".py",
   "mimetype": "text/x-python",
   "name": "python",
   "nbconvert_exporter": "python",
   "pygments_lexer": "ipython3",
   "version": "3.12.7"
  }
 },
 "nbformat": 4,
 "nbformat_minor": 2
}
