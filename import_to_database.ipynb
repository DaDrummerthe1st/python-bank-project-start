{
 "cells": [
  {
   "cell_type": "code",
   "execution_count": 10,
   "metadata": {},
   "outputs": [],
   "source": [
    "from models import Customer, Account\n",
    "import pandas as pd\n",
    "from db import SessionLocal\n",
    "session = SessionLocal()"
   ]
  },
  {
   "cell_type": "code",
   "execution_count": 11,
   "metadata": {},
   "outputs": [],
   "source": [
    "# läser vi in våra normaliserade filer som vi kommer använda för att koppla till databasen\n",
    "df_customers = pd.read_csv(\"/Users/k/Documents/TUC/DataQuality/python-bank-project-start/normalized_customers.csv\")\n",
    "df_accounts = pd.read_csv(\"/Users/k/Documents/TUC/DataQuality/python-bank-project-start/normalized_accounts.csv\")"
   ]
  },
  {
   "cell_type": "code",
   "execution_count": 12,
   "metadata": {},
   "outputs": [
    {
     "name": "stdout",
     "output_type": "stream",
     "text": [
      "Customer columns: ['id', 'name', 'address', 'phone', 'personnummer']\n",
      "Index(['name', 'address', 'phone', 'personnummer'], dtype='object')\n"
     ]
    }
   ],
   "source": [
    "print(\"Customer columns:\", Customer.__table__.columns.keys()) # dubbelkollar våra kolumner i Customer\n",
    "print(df_customers.columns) # skriver ut våra kolumnnamen , vi dubbelkollar detta innan vi gör en for-loop"
   ]
  },
  {
   "cell_type": "code",
   "execution_count": null,
   "metadata": {},
   "outputs": [
    {
     "name": "stdout",
     "output_type": "stream",
     "text": [
      "Kunder inlagda.\n"
     ]
    }
   ],
   "source": [
    "personnummer_to_id = {}\n",
    "\n",
    "for _, row in df_customers.iterrows():\n",
    "    # Kontrollera om kund redan finns\n",
    "    existing = session.query(Customer).filter_by(personnummer=row['personnummer']).first()\n",
    "    \n",
    "    if existing:\n",
    "        personnummer_to_id[row['personnummer']] = existing.id\n",
    "        continue\n",
    "\n",
    "    # Skapa ny kund\n",
    "    customer = Customer(\n",
    "        name=row['name'],\n",
    "        address=row['address'],\n",
    "        phone=row['phone'],\n",
    "        personnummer=row['personnummer']\n",
    "    )\n",
    "    session.add(customer)\n",
    "    session.flush()  # För att få fram autogenererat ID\n",
    "\n",
    "    # Koppla personnummer till ID\n",
    "    personnummer_to_id[row['personnummer']] = customer.id\n",
    "\n",
    "# Commit till databasen\n",
    "session.commit()\n",
    "print(\"Kunder inlagda.\")\n",
    "# \n"
   ]
  },
  {
   "cell_type": "code",
   "execution_count": 15,
   "metadata": {},
   "outputs": [
    {
     "name": "stdout",
     "output_type": "stream",
     "text": [
      "Account columns: ['id', 'number', 'balance', 'credit', 'interest', 'currency', 'customer_id']\n",
      "Index(['number', 'personnummer', 'credit', 'interest', 'currency'], dtype='object')\n"
     ]
    }
   ],
   "source": [
    "print(\"Account columns:\", Account.__table__.columns.keys()) # dubbelkollar våra kolumner i Account\n",
    "print(df_accounts.columns) # skriver ut kolumnnamnen från df_accounts, vi kontrollerar innan vi skriver vår for-looop"
   ]
  },
  {
   "cell_type": "code",
   "execution_count": null,
   "metadata": {},
   "outputs": [],
   "source": [
    "# här ser vi till att alla nödvändiga kolumner finns i df_accounts\n",
    "required_cols = ['balance', 'credit', 'interest', 'currency']\n",
    "default_values = {'balance': 0, 'credit': 0, 'interest': 0, 'currency': 'SEK'}\n",
    "\n",
    "for col in required_cols:\n",
    "    if col not in df_accounts.columns:\n",
    "        df_accounts[col] = default_values[col]"
   ]
  },
  {
   "cell_type": "code",
   "execution_count": null,
   "metadata": {},
   "outputs": [
    {
     "name": "stdout",
     "output_type": "stream",
     "text": [
      "Konton inlagda och kopplade till kunder.\n"
     ]
    }
   ],
   "source": [
    "for _, row in df_accounts.iterrows(): \n",
    "    personnummer = row['personnummer']\n",
    "    customer_id = personnummer_to_id.get(personnummer)\n",
    "\n",
    "    if not customer_id:\n",
    "        print(f\"Hittade ingen kund för: {personnummer}\")\n",
    "        continue\n",
    "\n",
    "    account = Account(\n",
    "        number=row['number'],\n",
    "        balance=row['balance'],\n",
    "        credit=row['credit'],\n",
    "        interest=row['interest'],\n",
    "        currency=row['currency'],\n",
    "        customer_id=customer_id\n",
    "    )\n",
    "    session.add(account)\n",
    "\n",
    "session.commit()\n",
    "print(\"Konton inlagda och kopplade till kunder.\")\n",
    "\n"
   ]
  },
  {
   "cell_type": "code",
   "execution_count": 18,
   "metadata": {},
   "outputs": [
    {
     "name": "stdout",
     "output_type": "stream",
     "text": [
      "Antal kunder: 1160\n",
      "Antal konton: 2000\n"
     ]
    }
   ],
   "source": [
    "# Kollar hur många antal kunder och konton vi har \n",
    "print(\"Antal kunder:\", session.query(Customer).count()) # vi gör en query där vi skickar en COUNT förfrågan på våran 'Customer' tabell \n",
    "print(\"Antal konton:\", session.query(Account).count()) # samma som ovan men för 'Account' tabellen\n",
    "session.close() # stänger vi vår session där inga fler databasoperationer kan göras "
   ]
  }
 ],
 "metadata": {
  "kernelspec": {
   "display_name": "base",
   "language": "python",
   "name": "python3"
  },
  "language_info": {
   "codemirror_mode": {
    "name": "ipython",
    "version": 3
   },
   "file_extension": ".py",
   "mimetype": "text/x-python",
   "name": "python",
   "nbconvert_exporter": "python",
   "pygments_lexer": "ipython3",
   "version": "3.12.2"
  }
 },
 "nbformat": 4,
 "nbformat_minor": 2
}
