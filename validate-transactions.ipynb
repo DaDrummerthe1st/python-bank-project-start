{
 "cells": [
  {
   "cell_type": "code",
   "execution_count": 3,
   "id": "9b161146e31e5eaa",
   "metadata": {
    "ExecuteTime": {
     "end_time": "2025-05-15T22:42:50.592823Z",
     "start_time": "2025-05-15T22:42:50.417663Z"
    }
   },
   "outputs": [
    {
     "name": "stderr",
     "output_type": "stream",
     "text": [
      "/tmp/ipykernel_6155/1788300788.py:7: DtypeWarning: Columns (2) have mixed types. Specify dtype option on import or set low_memory=False.\n",
      "  df = pd.read_csv(\"./data/transactions.csv\")\n"
     ]
    },
    {
     "ename": "ValidationError",
     "evalue": "1 validation error for ExpectColumnValuesToBeOfType\ntype_\n  str type expected (type=type_error.str)",
     "output_type": "error",
     "traceback": [
      "\u001b[31m---------------------------------------------------------------------------\u001b[39m",
      "\u001b[31mValidationError\u001b[39m                           Traceback (most recent call last)",
      "\u001b[36mCell\u001b[39m\u001b[36m \u001b[39m\u001b[32mIn[3]\u001b[39m\u001b[32m, line 29\u001b[39m\n\u001b[32m     26\u001b[39m validator = context.get_validator(batch=batch, expectation_suite=suite)\n\u001b[32m     28\u001b[39m \u001b[38;5;66;03m# Add expectations\u001b[39;00m\n\u001b[32m---> \u001b[39m\u001b[32m29\u001b[39m \u001b[43mvalidator\u001b[49m\u001b[43m.\u001b[49m\u001b[43mexpect_column_values_to_be_of_type\u001b[49m\u001b[43m(\u001b[49m\u001b[33;43m\"\u001b[39;49m\u001b[33;43mamount\u001b[39;49m\u001b[33;43m\"\u001b[39;49m\u001b[43m,\u001b[49m\u001b[43m \u001b[49m\u001b[38;5;28;43mfloat\u001b[39;49m\u001b[43m)\u001b[49m\n\u001b[32m     30\u001b[39m \u001b[38;5;66;03m#validator.expect_column_values_to_be_between(\"amount\", min_value=0.01, max_value=100000.00)\u001b[39;00m\n\u001b[32m     31\u001b[39m \n\u001b[32m     32\u001b[39m \u001b[38;5;66;03m# Validate\u001b[39;00m\n\u001b[32m     33\u001b[39m results = validator.validate()\n",
      "\u001b[36mFile \u001b[39m\u001b[32m~/utbildning/data24hel/kurser/datakvalitet/code/python-bank-project-start/.venv/lib/python3.12/site-packages/great_expectations/validator/validator.py:548\u001b[39m, in \u001b[36mValidator.validate_expectation.<locals>.inst_expectation\u001b[39m\u001b[34m(*args, **kwargs)\u001b[39m\n\u001b[32m    542\u001b[39m         validation_result = ExpectationValidationResult(\n\u001b[32m    543\u001b[39m             success=\u001b[38;5;28;01mFalse\u001b[39;00m,\n\u001b[32m    544\u001b[39m             exception_info=exception_info,\n\u001b[32m    545\u001b[39m             expectation_config=configuration,\n\u001b[32m    546\u001b[39m         )\n\u001b[32m    547\u001b[39m     \u001b[38;5;28;01melse\u001b[39;00m:\n\u001b[32m--> \u001b[39m\u001b[32m548\u001b[39m         \u001b[38;5;28;01mraise\u001b[39;00m err  \u001b[38;5;66;03m# noqa: TRY201 # FIXME CoP\u001b[39;00m\n\u001b[32m    550\u001b[39m \u001b[38;5;28;01mif\u001b[39;00m \u001b[38;5;28mself\u001b[39m._include_rendered_content:\n\u001b[32m    551\u001b[39m     validation_result.render()\n",
      "\u001b[36mFile \u001b[39m\u001b[32m~/utbildning/data24hel/kurser/datakvalitet/code/python-bank-project-start/.venv/lib/python3.12/site-packages/great_expectations/validator/validator.py:489\u001b[39m, in \u001b[36mValidator.validate_expectation.<locals>.inst_expectation\u001b[39m\u001b[34m(*args, **kwargs)\u001b[39m\n\u001b[32m    486\u001b[39m configuration: ExpectationConfiguration | \u001b[38;5;28;01mNone\u001b[39;00m = \u001b[38;5;28;01mNone\u001b[39;00m\n\u001b[32m    488\u001b[39m \u001b[38;5;28;01mtry\u001b[39;00m:\n\u001b[32m--> \u001b[39m\u001b[32m489\u001b[39m     expectation = \u001b[43mexpectation_impl\u001b[49m\u001b[43m(\u001b[49m\u001b[43m*\u001b[49m\u001b[43m*\u001b[49m\u001b[43mexpectation_kwargs\u001b[49m\u001b[43m,\u001b[49m\u001b[43m \u001b[49m\u001b[43mmeta\u001b[49m\u001b[43m=\u001b[49m\u001b[43mmeta\u001b[49m\u001b[43m)\u001b[49m\n\u001b[32m    490\u001b[39m     configuration = expectation.configuration\n\u001b[32m    492\u001b[39m     \u001b[38;5;28;01mif\u001b[39;00m \u001b[38;5;28mself\u001b[39m.interactive_evaluation:\n",
      "\u001b[36mFile \u001b[39m\u001b[32m~/utbildning/data24hel/kurser/datakvalitet/code/python-bank-project-start/.venv/lib/python3.12/site-packages/pydantic/v1/main.py:347\u001b[39m, in \u001b[36mBaseModel.__init__\u001b[39m\u001b[34m(__pydantic_self__, **data)\u001b[39m\n\u001b[32m    345\u001b[39m values, fields_set, validation_error = validate_model(__pydantic_self__.\u001b[34m__class__\u001b[39m, data)\n\u001b[32m    346\u001b[39m \u001b[38;5;28;01mif\u001b[39;00m validation_error:\n\u001b[32m--> \u001b[39m\u001b[32m347\u001b[39m     \u001b[38;5;28;01mraise\u001b[39;00m validation_error\n\u001b[32m    348\u001b[39m \u001b[38;5;28;01mtry\u001b[39;00m:\n\u001b[32m    349\u001b[39m     object_setattr(__pydantic_self__, \u001b[33m'\u001b[39m\u001b[33m__dict__\u001b[39m\u001b[33m'\u001b[39m, values)\n",
      "\u001b[31mValidationError\u001b[39m: 1 validation error for ExpectColumnValuesToBeOfType\ntype_\n  str type expected (type=type_error.str)"
     ]
    }
   ],
   "source": [
    "import great_expectations as gx\n",
    "import pandas as pd\n",
    "import warnings\n",
    "warnings.filterwarnings(\"ignore\", message=\"`result_format` configured at the Validator-level*\")\n",
    "\n",
    "# Load the data\n",
    "df = pd.read_csv(\"./data/transactions.csv\")\n",
    "\n",
    "# Create the ephemeral GX context\n",
    "context = gx.get_context()\n",
    "\n",
    "# Add a pandas datasource\n",
    "data_source = context.data_sources.add_pandas(name=\"pandas\")\n",
    "\n",
    "# Add a dataframe asset\n",
    "data_asset = data_source.add_dataframe_asset(name=\"transactions_data\")\n",
    "\n",
    "# Define the batch (entire DataFrame)\n",
    "batch_definition = data_asset.add_batch_definition_whole_dataframe(name=\"batch_def\")\n",
    "batch = batch_definition.get_batch(batch_parameters={\"dataframe\": df})\n",
    "\n",
    "# Create the expectation suite with a name\n",
    "suite = gx.core.expectation_suite.ExpectationSuite(name=\"transactions_suite\")\n",
    "\n",
    "# Get the validator using the suite\n",
    "validator = context.get_validator(batch=batch, expectation_suite=suite)\n",
    "\n",
    "# Add expectations\n",
    "validator.expect_column_values_to_be_of_type(\"amount\", float)\n",
    "#validator.expect_column_values_to_be_between(\"amount\", min_value=0.01, max_value=100000.00)\n",
    "\n",
    "# Validate\n",
    "results = validator.validate()\n",
    "\n",
    "# Print results\n",
    "print(results)\n"
   ]
  }
 ],
 "metadata": {
  "kernelspec": {
   "display_name": ".venv",
   "language": "python",
   "name": "python3"
  },
  "language_info": {
   "codemirror_mode": {
    "name": "ipython",
    "version": 3
   },
   "file_extension": ".py",
   "mimetype": "text/x-python",
   "name": "python",
   "nbconvert_exporter": "python",
   "pygments_lexer": "ipython3",
   "version": "3.12.3"
  }
 },
 "nbformat": 4,
 "nbformat_minor": 5
}
