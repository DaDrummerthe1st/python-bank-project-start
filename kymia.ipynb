{
 "cells": [
  {
   "cell_type": "code",
   "execution_count": 1,
   "metadata": {},
   "outputs": [],
   "source": [
    "import pandas as pd"
   ]
  },
  {
   "cell_type": "code",
   "execution_count": 10,
   "metadata": {},
   "outputs": [
    {
     "name": "stderr",
     "output_type": "stream",
     "text": [
      "/var/folders/4l/gfjlj22s475gkdvzzlfg1v0m0000gn/T/ipykernel_85970/3225109622.py:1: DtypeWarning: Columns (2) have mixed types. Specify dtype option on import or set low_memory=False.\n",
      "  df_transactions = pd.read_csv('/Users/k/Documents/TUC/DataQuality/python-bank-project-start/data/transactions.csv')\n"
     ]
    }
   ],
   "source": [
    "df_transactions = pd.read_csv('/Users/k/Documents/TUC/DataQuality/python-bank-project-start/data/transactions.csv')"
   ]
  },
  {
   "cell_type": "code",
   "execution_count": null,
   "metadata": {},
   "outputs": [
    {
     "name": "stdout",
     "output_type": "stream",
     "text": [
      "                            transaction_id timestamp    amount currency  \\\n",
      "372   e13b1664-c549-4f92-895a-1f941dd6d82e       NaT  12881.63      SEK   \n",
      "374   7bfcf599-e449-4e63-a3f9-05631511e58a       NaT  20223.17      SEK   \n",
      "432   b75a64f1-d111-4261-9df0-53f2c38e2828       NaT  45069.28      SEK   \n",
      "566   bc91f1d3-e0b0-471b-844f-7e14941d3236       NaT   9908.07      SEK   \n",
      "658   e4ec0cfc-55e8-4ca1-b3f4-0948a1b8e997       NaT   3080.18      SEK   \n",
      "661   13638365-972b-4fd8-9518-f27557a7e1cd       NaT  34157.12      SEK   \n",
      "761   fda4c622-1044-49aa-bc41-b44bdd50bc9c       NaT   2192.15      SEK   \n",
      "814   bc23bd09-5b6a-4ebe-95ae-7dad0cde315a       NaT  21899.83      SEK   \n",
      "817   9687e5ce-f8e0-4afa-ac0c-54d8c6ef457f       NaT  36969.56      SEK   \n",
      "821   aee31e4c-e8c1-4fa5-b8bf-53815ab51b55       NaT   39794.0      SEK   \n",
      "866   f46345d0-c1f8-46d7-ae78-47c4a6b52fee       NaT   9573.92      SEK   \n",
      "876   2f48c8d5-cad7-48b0-8f8c-2f1324911dfd       NaT  34373.92      SEK   \n",
      "884   776cbccf-2d92-4e83-a702-6b6261fa7de0       NaT  46318.06      SEK   \n",
      "911   2452bd7a-a1b4-425d-a9e1-a6299edbc458       NaT  31961.53      SEK   \n",
      "913   bf0e480f-3993-4f19-99c3-8e223bd1cada       NaT   6091.76      SEK   \n",
      "1428  99ca438b-d55e-4ba4-b6fc-c353cc5d810b       NaT  22074.32      SEK   \n",
      "\n",
      "                sender_account          receiver_account sender_country  \\\n",
      "372   SE8902IOSH72112913547339  SE8902EXDO77351409949930         Sweden   \n",
      "374   SE8902UEXU77157980119965  SE8902EMWA07310860593299         Sweden   \n",
      "432   SE8902PBIW30011757227628  SE8902SZWO66860675966705         Sweden   \n",
      "566   SE8902HEXR67420014606110  SE8902PBIW30011757227628         Sweden   \n",
      "658   SE8902RXEO54698137995629  SE8902PXQH61449282091685         Sweden   \n",
      "661   SE8902XMWU73408358252236  SE8902HPKQ79721411987869            NaN   \n",
      "761   SE8902KSGF71738325166005  SE8902SWFR35893590471977         Sweden   \n",
      "814   SE8902GPFA36799720094528  SE8902AEOP68872744631879         Sweden   \n",
      "817   SE8902ZKDX10421013051508  SE8902ZQHA53957175041781         Sweden   \n",
      "821   SE8902FIYI65713456085419  SE8902RNER71700945656875         Sweden   \n",
      "866   SE8902NFSW96446848690649  SE8902IFPV72140679061770         Sweden   \n",
      "876   SE8902AEQJ97044224731438  SE8902FZSE04507369196975         Sweden   \n",
      "884   SE8902JZYF06547820263799  SE8902IBRL73514393853709         Sweden   \n",
      "911   SE8902IGFR09709190696891  SE8902GTCY42439402519574         Sweden   \n",
      "913   SE8902IILS20920256766703  SE8902WGYQ69186751021705         Sweden   \n",
      "1428  SE8902APWS33564004625903  SE8902MVZJ65066103207787         Sweden   \n",
      "\n",
      "     sender_municipality receiver_country receiver_municipality  \\\n",
      "372           Norrköping           Sweden            Trelleborg   \n",
      "374         Kristianstad           Sweden                 Luleå   \n",
      "432             Göteborg           Sweden               Lidingö   \n",
      "566           Karlskrona           Sweden              Göteborg   \n",
      "658            Sundsvall           Sweden             Uddevalla   \n",
      "661                Malmö           Sweden                 Luleå   \n",
      "761                 Lund           Sweden                  Umeå   \n",
      "814            Uddevalla           Sweden                 Borås   \n",
      "817            Jönköping           Sweden                Motala   \n",
      "821             Alingsås           Sweden             Linköping   \n",
      "866                Malmö           Sweden              Borlänge   \n",
      "876             Halmstad           Sweden             Sandviken   \n",
      "884              Lidingö           Sweden                 Luleå   \n",
      "911                  NaN           Sweden             Sandviken   \n",
      "913                Luleå           Sweden            Södertälje   \n",
      "1428             Lidingö           Sweden                 Falun   \n",
      "\n",
      "     transaction_type                      notes  \n",
      "372          incoming             Loan repayment  \n",
      "374          incoming             Loan repayment  \n",
      "432          incoming  Payment for invoice #3222  \n",
      "566          incoming              Rent transfer  \n",
      "658          incoming           Insurance payout  \n",
      "661          outgoing  Payment for invoice #8946  \n",
      "761          incoming               Utility bill  \n",
      "814          outgoing            Online purchase  \n",
      "817          incoming               Utility bill  \n",
      "821          outgoing            Mobile recharge  \n",
      "866          incoming                 Tax refund  \n",
      "876          outgoing  Payment for invoice #9893  \n",
      "884          incoming            Mobile recharge  \n",
      "911          incoming            Mobile recharge  \n",
      "913          incoming      Gift to family member  \n",
      "1428         incoming            Online purchase  \n"
     ]
    }
   ],
   "source": [
    "df_transactions['timestamp'] = pd.to_datetime(df_transactions['timestamp'], errors='coerce')\n",
    "print(df_transactions[df_transactions['timestamp'].isna()])"
   ]
  },
  {
   "cell_type": "code",
   "execution_count": 11,
   "metadata": {},
   "outputs": [
    {
     "name": "stdout",
     "output_type": "stream",
     "text": [
      "transaction_id           object\n",
      "timestamp                object\n",
      "amount                   object\n",
      "currency                 object\n",
      "sender_account           object\n",
      "receiver_account         object\n",
      "sender_country           object\n",
      "sender_municipality      object\n",
      "receiver_country         object\n",
      "receiver_municipality    object\n",
      "transaction_type         object\n",
      "notes                    object\n",
      "dtype: object\n"
     ]
    }
   ],
   "source": [
    "print(df_transactions.dtypes)"
   ]
  },
  {
   "cell_type": "code",
   "execution_count": null,
   "metadata": {},
   "outputs": [],
   "source": [
    "df_transactions['dtypechange_amount'] = (\n",
    "    df_transactions['amount']\n",
    "    .astype(str) ## vi ser till så att alla värden är i string datatyp\n",
    "    .str.replace(\" \", \"\", regex=False) ## ta bort ifall det finns några mellanrum\n",
    "    .str.replace(\",\", \".\", regex=False) ## ta bort ifall det finns några tecken emellan \n",
    "    ## regex används för att tolka rätt för \" \", alltså att det ej är ett mönster utan ett mellanslag\n",
    "    ## används alltså för att python skall tolka rätt till att dessa är strängar och ej regex-mönster\n",
    ")\n",
    "df_transactions['dtypechange_amount'] = pd.to_numeric(df_transactions['dtypechange_amount'], errors='coerce') ## byter datatypen på amount till float\n",
    "                                                                                                                ## coerce hjälper till att ändra de värden so ej är strings till NaN"
   ]
  },
  {
   "cell_type": "code",
   "execution_count": 18,
   "metadata": {},
   "outputs": [
    {
     "name": "stdout",
     "output_type": "stream",
     "text": [
      "transaction_id            object\n",
      "timestamp                 object\n",
      "amount                    object\n",
      "currency                  object\n",
      "sender_account            object\n",
      "receiver_account          object\n",
      "sender_country            object\n",
      "sender_municipality       object\n",
      "receiver_country          object\n",
      "receiver_municipality     object\n",
      "transaction_type          object\n",
      "notes                     object\n",
      "dtypechange_amount       float64\n",
      "dtype: object\n"
     ]
    }
   ],
   "source": [
    "print(df_transactions.dtypes) ## dubbelkollar vi ifall ändringen skett "
   ]
  },
  {
   "cell_type": "code",
   "execution_count": null,
   "metadata": {},
   "outputs": [
    {
     "name": "stdout",
     "output_type": "stream",
     "text": [
      "transaction_id              0\n",
      "timestamp                  16\n",
      "amount                      0\n",
      "currency                    0\n",
      "sender_account              0\n",
      "receiver_account            0\n",
      "sender_country            500\n",
      "sender_municipality       500\n",
      "receiver_country          500\n",
      "receiver_municipality     500\n",
      "transaction_type            0\n",
      "notes                    9982\n",
      "dtype: int64\n"
     ]
    }
   ],
   "source": [
    "print(df_transactions.isnull().sum())"
   ]
  },
  {
   "cell_type": "code",
   "execution_count": 5,
   "metadata": {},
   "outputs": [],
   "source": [
    "df_customers = pd.read_csv('/Users/k/Documents/TUC/DataQuality/python-bank-project-start/data/sebank_customers_with_accounts.csv')"
   ]
  },
  {
   "cell_type": "code",
   "execution_count": 6,
   "metadata": {},
   "outputs": [
    {
     "name": "stdout",
     "output_type": "stream",
     "text": [
      "Customer        0\n",
      "Address         0\n",
      "Phone           0\n",
      "Personnummer    0\n",
      "BankAccount     0\n",
      "dtype: int64\n"
     ]
    }
   ],
   "source": [
    "print(df_customers.isnull().sum())"
   ]
  },
  {
   "cell_type": "code",
   "execution_count": 19,
   "metadata": {},
   "outputs": [],
   "source": [
    "df_customer = pd.read_csv(\"/Users/k/Documents/TUC/DataQuality/python-bank-project-start/sebank_merged_data.csv\")"
   ]
  },
  {
   "cell_type": "code",
   "execution_count": 20,
   "metadata": {},
   "outputs": [
    {
     "name": "stdout",
     "output_type": "stream",
     "text": [
      "Customer        object\n",
      "Address         object\n",
      "Phone           object\n",
      "Personnummer    object\n",
      "BankAccount     object\n",
      "dtype: object\n"
     ]
    }
   ],
   "source": [
    "print(df_customer.dtypes)"
   ]
  },
  {
   "cell_type": "code",
   "execution_count": null,
   "metadata": {},
   "outputs": [],
   "source": []
  }
 ],
 "metadata": {
  "kernelspec": {
   "display_name": "base",
   "language": "python",
   "name": "python3"
  },
  "language_info": {
   "codemirror_mode": {
    "name": "ipython",
    "version": 3
   },
   "file_extension": ".py",
   "mimetype": "text/x-python",
   "name": "python",
   "nbconvert_exporter": "python",
   "pygments_lexer": "ipython3",
   "version": "3.12.2"
  }
 },
 "nbformat": 4,
 "nbformat_minor": 2
}
