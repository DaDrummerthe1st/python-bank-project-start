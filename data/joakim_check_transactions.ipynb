{
 "cells": [
  {
   "cell_type": "code",
   "execution_count": 2,
   "id": "5b7f7979",
   "metadata": {},
   "outputs": [
    {
     "name": "stderr",
     "output_type": "stream",
     "text": [
      "/tmp/ipykernel_6153/518122918.py:5: DtypeWarning: Columns (2) have mixed types. Specify dtype option on import or set low_memory=False.\n",
      "  df = pd.read_csv(file_to_check)\n"
     ]
    }
   ],
   "source": [
    "import pandas as pd\n",
    "\n",
    "file_to_check = \"transactions.csv\"\n",
    "\n",
    "df = pd.read_csv(file_to_check)"
   ]
  },
  {
   "cell_type": "markdown",
   "id": "55de2bef",
   "metadata": {},
   "source": [
    "### Things to check\n",
    "* Hidden characters / code within data\n",
    "* Same datatype througout a column\n",
    "* Only valid account numbers\n",
    "* How many unique accounts\n",
    "* First date, last date. Then:\n",
    "* Rare account usage\n",
    "* Alot of transactions\n",
    "* Only Swedish transactions?\n",
    "\n",
    "* Check df.notes.unique() <---- Alot of NONE\n",
    "* Accounts with unusual amount of Insurance and Tax refund (>3/yr?)"
   ]
  },
  {
   "cell_type": "markdown",
   "id": "749b9591",
   "metadata": {},
   "source": [
    "# Cleaning dataframe"
   ]
  },
  {
   "cell_type": "code",
   "execution_count": null,
   "id": "c66484fd",
   "metadata": {},
   "outputs": [
    {
     "ename": "AttributeError",
     "evalue": "module 'pandas' has no attribute 'dtypes'",
     "output_type": "error",
     "traceback": [
      "\u001b[31m---------------------------------------------------------------------------\u001b[39m",
      "\u001b[31mAttributeError\u001b[39m                            Traceback (most recent call last)",
      "\u001b[36mCell\u001b[39m\u001b[36m \u001b[39m\u001b[32mIn[23]\u001b[39m\u001b[32m, line 10\u001b[39m\n\u001b[32m      7\u001b[39m df.amount.replace(\u001b[33m\"\u001b[39m\u001b[33m \u001b[39m\u001b[33m\"\u001b[39m, \u001b[33m\"\u001b[39m\u001b[33m\"\u001b[39m)\n\u001b[32m      9\u001b[39m \u001b[38;5;66;03m# df[df[\"amount\"].dtype() is not float]\u001b[39;00m\n\u001b[32m---> \u001b[39m\u001b[32m10\u001b[39m \u001b[43mpd\u001b[49m\u001b[43m.\u001b[49m\u001b[43mdtypes\u001b[49m(df)\n",
      "\u001b[31mAttributeError\u001b[39m: module 'pandas' has no attribute 'dtypes'"
     ]
    }
   ],
   "source": [
    "# df[df.duplicated() == True]\n",
    "\n",
    "# df.corr(numeric_only=True)\n",
    "\n",
    "# df.info()\n",
    "\n",
    "df.amount.replace(\" \", \"\")\n",
    "\n",
    "# df[df[\"amount\"].dtype() is not float]\n",
    "# pd.dtypes(df)\n"
   ]
  },
  {
   "cell_type": "markdown",
   "id": "5631be89",
   "metadata": {},
   "source": [
    "### Peripheral duties for bank and money laundry"
   ]
  },
  {
   "cell_type": "code",
   "execution_count": 11,
   "id": "9b8ce37a",
   "metadata": {},
   "outputs": [
    {
     "data": {
      "text/plain": [
       "currency\n",
       "SEK     40462\n",
       "USD      7649\n",
       "EUR       897\n",
       "NOK       457\n",
       "DKK       421\n",
       "RMB        56\n",
       "GBP        29\n",
       "ZAR        27\n",
       "JPY        25\n",
       "ZMW        24\n",
       "SKR         2\n",
       " SEK        1\n",
       "SEK         1\n",
       "Name: count, dtype: int64"
      ]
     },
     "execution_count": 11,
     "metadata": {},
     "output_type": "execute_result"
    }
   ],
   "source": [
    "df[(df.transaction_type == \"outgoing\")].currency.value_counts()"
   ]
  }
 ],
 "metadata": {
  "kernelspec": {
   "display_name": ".venv",
   "language": "python",
   "name": "python3"
  },
  "language_info": {
   "codemirror_mode": {
    "name": "ipython",
    "version": 3
   },
   "file_extension": ".py",
   "mimetype": "text/x-python",
   "name": "python",
   "nbconvert_exporter": "python",
   "pygments_lexer": "ipython3",
   "version": "3.12.3"
  }
 },
 "nbformat": 4,
 "nbformat_minor": 5
}
