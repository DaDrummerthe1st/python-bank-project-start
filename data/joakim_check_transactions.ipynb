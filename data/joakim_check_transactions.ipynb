{
 "cells": [
  {
   "cell_type": "code",
   "execution_count": 1,
   "id": "5b7f7979",
   "metadata": {},
   "outputs": [
    {
     "name": "stderr",
     "output_type": "stream",
     "text": [
      "/tmp/ipykernel_51373/518122918.py:5: DtypeWarning: Columns (2) have mixed types. Specify dtype option on import or set low_memory=False.\n",
      "  df = pd.read_csv(file_to_check)\n"
     ]
    }
   ],
   "source": [
    "import pandas as pd\n",
    "\n",
    "file_to_check = \"transactions.csv\"\n",
    "\n",
    "df = pd.read_csv(file_to_check)"
   ]
  },
  {
   "cell_type": "markdown",
   "id": "55de2bef",
   "metadata": {},
   "source": [
    "### Things to check\n",
    "* Hidden characters / code within data\n",
    "* Same datatype througout a column\n",
    "* Only valid account numbers\n",
    "* How many unique accounts\n",
    "* First date, last date. Then:\n",
    "* Rare account usage\n",
    "* Alot of transactions\n",
    "* Only Swedish transactions?\n",
    "\n",
    "* Check df.notes.unique() <---- Alot of NONE\n",
    "* Accounts with unusual amount of Insurance and Tax refund (>3/yr?)"
   ]
  }
 ],
 "metadata": {
  "kernelspec": {
   "display_name": ".venv",
   "language": "python",
   "name": "python3"
  },
  "language_info": {
   "codemirror_mode": {
    "name": "ipython",
    "version": 3
   },
   "file_extension": ".py",
   "mimetype": "text/x-python",
   "name": "python",
   "nbconvert_exporter": "python",
   "pygments_lexer": "ipython3",
   "version": "3.12.3"
  }
 },
 "nbformat": 4,
 "nbformat_minor": 5
}
