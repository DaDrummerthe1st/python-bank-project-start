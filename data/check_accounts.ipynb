{
 "cells": [
  {
   "cell_type": "code",
   "execution_count": 10,
   "id": "07e7be8e",
   "metadata": {},
   "outputs": [
    {
     "data": {
      "application/vnd.microsoft.datawrangler.viewer.v0+json": {
       "columns": [
        {
         "name": "index",
         "rawType": "int64",
         "type": "integer"
        },
        {
         "name": "Customer",
         "rawType": "object",
         "type": "string"
        },
        {
         "name": "Address",
         "rawType": "object",
         "type": "string"
        },
        {
         "name": "Phone",
         "rawType": "object",
         "type": "string"
        },
        {
         "name": "Personnummer",
         "rawType": "object",
         "type": "string"
        },
        {
         "name": "BankAccount",
         "rawType": "object",
         "type": "string"
        }
       ],
       "ref": "1d5517b4-0471-4b64-bb68-3973958b3ea6",
       "rows": [
        [
         "0",
         "Kristina Blomberg",
         "Ringvägen 06, 64659 Kalmar",
         "099-22 72 57",
         "591202-5292",
         "SE8902XIMR45726412027481"
        ],
        [
         "1",
         "Kristina Blomberg",
         "Ringvägen 06, 64659 Kalmar",
         "099-22 72 57",
         "591202-5292",
         "SE8902KYCA60096331052021"
        ],
        [
         "2",
         "Mariann Stark Gustavsson",
         "Åkergatan 64, 59317 Trelleborg",
         "+46 (0)83 21 31 49",
         "840925-9846",
         "SE8902ETJQ36713699265219"
        ],
        [
         "3",
         "Mariann Stark Gustavsson",
         "Åkergatan 64, 59317 Trelleborg",
         "+46 (0)83 21 31 49",
         "840925-9846",
         "SE8902BHZA67238418870555"
        ],
        [
         "4",
         "Jasmine Blomqvist Pettersson",
         "Ringstigen 2, 74146 Malmö",
         "025-24 85 03",
         "570909-2034",
         "SE8902SBAO89984211669214"
        ]
       ],
       "shape": {
        "columns": 5,
        "rows": 5
       }
      },
      "text/html": [
       "<div>\n",
       "<style scoped>\n",
       "    .dataframe tbody tr th:only-of-type {\n",
       "        vertical-align: middle;\n",
       "    }\n",
       "\n",
       "    .dataframe tbody tr th {\n",
       "        vertical-align: top;\n",
       "    }\n",
       "\n",
       "    .dataframe thead th {\n",
       "        text-align: right;\n",
       "    }\n",
       "</style>\n",
       "<table border=\"1\" class=\"dataframe\">\n",
       "  <thead>\n",
       "    <tr style=\"text-align: right;\">\n",
       "      <th></th>\n",
       "      <th>Customer</th>\n",
       "      <th>Address</th>\n",
       "      <th>Phone</th>\n",
       "      <th>Personnummer</th>\n",
       "      <th>BankAccount</th>\n",
       "    </tr>\n",
       "  </thead>\n",
       "  <tbody>\n",
       "    <tr>\n",
       "      <th>0</th>\n",
       "      <td>Kristina Blomberg</td>\n",
       "      <td>Ringvägen 06, 64659 Kalmar</td>\n",
       "      <td>099-22 72 57</td>\n",
       "      <td>591202-5292</td>\n",
       "      <td>SE8902XIMR45726412027481</td>\n",
       "    </tr>\n",
       "    <tr>\n",
       "      <th>1</th>\n",
       "      <td>Kristina Blomberg</td>\n",
       "      <td>Ringvägen 06, 64659 Kalmar</td>\n",
       "      <td>099-22 72 57</td>\n",
       "      <td>591202-5292</td>\n",
       "      <td>SE8902KYCA60096331052021</td>\n",
       "    </tr>\n",
       "    <tr>\n",
       "      <th>2</th>\n",
       "      <td>Mariann Stark Gustavsson</td>\n",
       "      <td>Åkergatan 64, 59317 Trelleborg</td>\n",
       "      <td>+46 (0)83 21 31 49</td>\n",
       "      <td>840925-9846</td>\n",
       "      <td>SE8902ETJQ36713699265219</td>\n",
       "    </tr>\n",
       "    <tr>\n",
       "      <th>3</th>\n",
       "      <td>Mariann Stark Gustavsson</td>\n",
       "      <td>Åkergatan 64, 59317 Trelleborg</td>\n",
       "      <td>+46 (0)83 21 31 49</td>\n",
       "      <td>840925-9846</td>\n",
       "      <td>SE8902BHZA67238418870555</td>\n",
       "    </tr>\n",
       "    <tr>\n",
       "      <th>4</th>\n",
       "      <td>Jasmine Blomqvist Pettersson</td>\n",
       "      <td>Ringstigen 2, 74146 Malmö</td>\n",
       "      <td>025-24 85 03</td>\n",
       "      <td>570909-2034</td>\n",
       "      <td>SE8902SBAO89984211669214</td>\n",
       "    </tr>\n",
       "  </tbody>\n",
       "</table>\n",
       "</div>"
      ],
      "text/plain": [
       "                       Customer                         Address  \\\n",
       "0             Kristina Blomberg      Ringvägen 06, 64659 Kalmar   \n",
       "1             Kristina Blomberg      Ringvägen 06, 64659 Kalmar   \n",
       "2      Mariann Stark Gustavsson  Åkergatan 64, 59317 Trelleborg   \n",
       "3      Mariann Stark Gustavsson  Åkergatan 64, 59317 Trelleborg   \n",
       "4  Jasmine Blomqvist Pettersson       Ringstigen 2, 74146 Malmö   \n",
       "\n",
       "                Phone Personnummer               BankAccount  \n",
       "0        099-22 72 57  591202-5292  SE8902XIMR45726412027481  \n",
       "1        099-22 72 57  591202-5292  SE8902KYCA60096331052021  \n",
       "2  +46 (0)83 21 31 49  840925-9846  SE8902ETJQ36713699265219  \n",
       "3  +46 (0)83 21 31 49  840925-9846  SE8902BHZA67238418870555  \n",
       "4        025-24 85 03  570909-2034  SE8902SBAO89984211669214  "
      ]
     },
     "execution_count": 10,
     "metadata": {},
     "output_type": "execute_result"
    }
   ],
   "source": [
    "import pandas as pd\n",
    "\n",
    "account_file = \"sebank_customers_with_accounts.csv\"\n",
    "\n",
    "df_accounts = pd.read_csv(account_file)\n",
    "\n",
    "df_accounts.head()"
   ]
  },
  {
   "cell_type": "code",
   "execution_count": 11,
   "id": "d416d7c3",
   "metadata": {},
   "outputs": [
    {
     "data": {
      "application/vnd.microsoft.datawrangler.viewer.v0+json": {
       "columns": [
        {
         "name": "index",
         "rawType": "int64",
         "type": "integer"
        },
        {
         "name": "Customer",
         "rawType": "object",
         "type": "unknown"
        },
        {
         "name": "Address",
         "rawType": "object",
         "type": "unknown"
        },
        {
         "name": "Phone",
         "rawType": "object",
         "type": "unknown"
        },
        {
         "name": "Personnummer",
         "rawType": "object",
         "type": "unknown"
        },
        {
         "name": "BankAccount",
         "rawType": "object",
         "type": "unknown"
        }
       ],
       "ref": "3c80550c-3429-4aef-891f-b89bae6786d0",
       "rows": [],
       "shape": {
        "columns": 5,
        "rows": 0
       }
      },
      "text/html": [
       "<div>\n",
       "<style scoped>\n",
       "    .dataframe tbody tr th:only-of-type {\n",
       "        vertical-align: middle;\n",
       "    }\n",
       "\n",
       "    .dataframe tbody tr th {\n",
       "        vertical-align: top;\n",
       "    }\n",
       "\n",
       "    .dataframe thead th {\n",
       "        text-align: right;\n",
       "    }\n",
       "</style>\n",
       "<table border=\"1\" class=\"dataframe\">\n",
       "  <thead>\n",
       "    <tr style=\"text-align: right;\">\n",
       "      <th></th>\n",
       "      <th>Customer</th>\n",
       "      <th>Address</th>\n",
       "      <th>Phone</th>\n",
       "      <th>Personnummer</th>\n",
       "      <th>BankAccount</th>\n",
       "    </tr>\n",
       "  </thead>\n",
       "  <tbody>\n",
       "  </tbody>\n",
       "</table>\n",
       "</div>"
      ],
      "text/plain": [
       "Empty DataFrame\n",
       "Columns: [Customer, Address, Phone, Personnummer, BankAccount]\n",
       "Index: []"
      ]
     },
     "execution_count": 11,
     "metadata": {},
     "output_type": "execute_result"
    }
   ],
   "source": [
    "amounts = df_accounts[\"BankAccount\"]\n",
    "df_accounts[amounts.isin(amounts[amounts.duplicated()])].sort_values(\"BankAccount\")"
   ]
  }
 ],
 "metadata": {
  "kernelspec": {
   "display_name": ".venv",
   "language": "python",
   "name": "python3"
  },
  "language_info": {
   "codemirror_mode": {
    "name": "ipython",
    "version": 3
   },
   "file_extension": ".py",
   "mimetype": "text/x-python",
   "name": "python",
   "nbconvert_exporter": "python",
   "pygments_lexer": "ipython3",
   "version": "3.12.3"
  }
 },
 "nbformat": 4,
 "nbformat_minor": 5
}
